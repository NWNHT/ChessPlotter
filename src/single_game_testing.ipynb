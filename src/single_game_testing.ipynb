{
 "cells": [
  {
   "cell_type": "code",
   "execution_count": 52,
   "metadata": {},
   "outputs": [],
   "source": [
    "import asyncio\n",
    "import chess\n",
    "import chess.pgn\n",
    "import matplotlib.pyplot as plt\n",
    "import numpy as np\n",
    "import pandas as pd\n",
    "import plotnine as gg\n",
    "from stockfish import Stockfish\n",
    "\n",
    "from chessproc import pgnproc\n",
    "from chessproc import dfproc\n",
    "from chessproc.GameAnalysis import GameAnalysis\n",
    "\n",
    "pd.set_option('display.max_columns', 100)"
   ]
  },
  {
   "cell_type": "markdown",
   "metadata": {},
   "source": [
    "# Create the Parquet from Downloaded files"
   ]
  },
  {
   "cell_type": "code",
   "execution_count": 53,
   "metadata": {},
   "outputs": [
    {
     "data": {
      "text/html": [
       "<div>\n",
       "<style scoped>\n",
       "    .dataframe tbody tr th:only-of-type {\n",
       "        vertical-align: middle;\n",
       "    }\n",
       "\n",
       "    .dataframe tbody tr th {\n",
       "        vertical-align: top;\n",
       "    }\n",
       "\n",
       "    .dataframe thead th {\n",
       "        text-align: right;\n",
       "    }\n",
       "</style>\n",
       "<table border=\"1\" class=\"dataframe\">\n",
       "  <thead>\n",
       "    <tr style=\"text-align: right;\">\n",
       "      <th></th>\n",
       "      <th>Event</th>\n",
       "      <th>Site</th>\n",
       "      <th>Date</th>\n",
       "      <th>Round</th>\n",
       "      <th>White</th>\n",
       "      <th>Black</th>\n",
       "      <th>Result</th>\n",
       "      <th>CurrentPosition</th>\n",
       "      <th>Timezone</th>\n",
       "      <th>ECO</th>\n",
       "      <th>ECOUrl</th>\n",
       "      <th>UTCDate</th>\n",
       "      <th>UTCTime</th>\n",
       "      <th>WhiteElo</th>\n",
       "      <th>BlackElo</th>\n",
       "      <th>TimeControl</th>\n",
       "      <th>Termination</th>\n",
       "      <th>StartTime</th>\n",
       "      <th>EndDate</th>\n",
       "      <th>EndTime</th>\n",
       "      <th>Link</th>\n",
       "      <th>pgn</th>\n",
       "      <th>moves</th>\n",
       "      <th>player_result</th>\n",
       "      <th>player_colour</th>\n",
       "      <th>elo_difference</th>\n",
       "      <th>game_length</th>\n",
       "      <th>Username</th>\n",
       "    </tr>\n",
       "  </thead>\n",
       "  <tbody>\n",
       "    <tr>\n",
       "      <th>0</th>\n",
       "      <td>Live Chess</td>\n",
       "      <td>Chess.com</td>\n",
       "      <td>2022-11-02</td>\n",
       "      <td>-</td>\n",
       "      <td>Polish_fighter3000</td>\n",
       "      <td>Hikaru</td>\n",
       "      <td>0-1</td>\n",
       "      <td>3Q4/1p3pk1/p1p3p1/P7/1P1P1qP1/2p2P1P/5K2/8 w - -</td>\n",
       "      <td>UTC</td>\n",
       "      <td>A00</td>\n",
       "      <td>https://www.chess.com/openings/Vant-Kruijs-Ope...</td>\n",
       "      <td>2022-11-02</td>\n",
       "      <td>0 days 19:03:07</td>\n",
       "      <td>2797</td>\n",
       "      <td>2831</td>\n",
       "      <td>900+2</td>\n",
       "      <td>Hikaru won by resignation</td>\n",
       "      <td>0 days 19:03:07</td>\n",
       "      <td>2022-11-02</td>\n",
       "      <td>0 days 19:32:29</td>\n",
       "      <td>https://www.chess.com/game/live/61154938155</td>\n",
       "      <td>[Event \"Live Chess\"]\\n[Site \"Chess.com\"]\\n[Dat...</td>\n",
       "      <td>[[1., e3, 0:15:02], [1..., e5, 0:14:42.2], [2....</td>\n",
       "      <td>0</td>\n",
       "      <td>White</td>\n",
       "      <td>34</td>\n",
       "      <td>88</td>\n",
       "      <td>Polish_fighter3000</td>\n",
       "    </tr>\n",
       "    <tr>\n",
       "      <th>1</th>\n",
       "      <td>Live Chess</td>\n",
       "      <td>Chess.com</td>\n",
       "      <td>2022-11-02</td>\n",
       "      <td>-</td>\n",
       "      <td>Hikaru</td>\n",
       "      <td>Polish_fighter3000</td>\n",
       "      <td>1-0</td>\n",
       "      <td>5k2/b7/Pp5p/1B2p3/6P1/2p5/2K4P/8 b - g3</td>\n",
       "      <td>UTC</td>\n",
       "      <td>C65</td>\n",
       "      <td>https://www.chess.com/openings/Ruy-Lopez-Openi...</td>\n",
       "      <td>2022-11-02</td>\n",
       "      <td>0 days 18:05:29</td>\n",
       "      <td>2822</td>\n",
       "      <td>2822</td>\n",
       "      <td>900+2</td>\n",
       "      <td>Hikaru won by resignation</td>\n",
       "      <td>0 days 18:05:29</td>\n",
       "      <td>2022-11-02</td>\n",
       "      <td>0 days 18:28:13</td>\n",
       "      <td>https://www.chess.com/game/live/61151381579</td>\n",
       "      <td>[Event \"Live Chess\"]\\n[Site \"Chess.com\"]\\n[Dat...</td>\n",
       "      <td>[[1., e4, 0:15:02], [1..., e5, 0:15:02], [2., ...</td>\n",
       "      <td>0</td>\n",
       "      <td>Black</td>\n",
       "      <td>0</td>\n",
       "      <td>63</td>\n",
       "      <td>Polish_fighter3000</td>\n",
       "    </tr>\n",
       "    <tr>\n",
       "      <th>2</th>\n",
       "      <td>Live Chess</td>\n",
       "      <td>Chess.com</td>\n",
       "      <td>2022-11-02</td>\n",
       "      <td>-</td>\n",
       "      <td>Polish_fighter3000</td>\n",
       "      <td>Hikaru</td>\n",
       "      <td>0-1</td>\n",
       "      <td>3r4/8/8/5n1p/R7/4pk1P/2K5/8 w - -</td>\n",
       "      <td>UTC</td>\n",
       "      <td>D30</td>\n",
       "      <td>https://www.chess.com/openings/Queens-Gambit-D...</td>\n",
       "      <td>2022-11-02</td>\n",
       "      <td>0 days 16:57:47</td>\n",
       "      <td>2853</td>\n",
       "      <td>2811</td>\n",
       "      <td>900+2</td>\n",
       "      <td>Hikaru won by resignation</td>\n",
       "      <td>0 days 16:57:47</td>\n",
       "      <td>2022-11-02</td>\n",
       "      <td>0 days 17:34:29</td>\n",
       "      <td>https://www.chess.com/game/live/61147235609</td>\n",
       "      <td>[Event \"Live Chess\"]\\n[Site \"Chess.com\"]\\n[Dat...</td>\n",
       "      <td>[[1., d4, 0:15:02], [1..., Nf6, 0:15:01.2], [2...</td>\n",
       "      <td>0</td>\n",
       "      <td>White</td>\n",
       "      <td>-42</td>\n",
       "      <td>188</td>\n",
       "      <td>Polish_fighter3000</td>\n",
       "    </tr>\n",
       "    <tr>\n",
       "      <th>3</th>\n",
       "      <td>Live Chess</td>\n",
       "      <td>Chess.com</td>\n",
       "      <td>2022-11-02</td>\n",
       "      <td>-</td>\n",
       "      <td>Hikaru</td>\n",
       "      <td>Polish_fighter3000</td>\n",
       "      <td>1-0</td>\n",
       "      <td>3k4/1Q6/P1n3P1/8/3bKP2/8/2r5/8 b - -</td>\n",
       "      <td>UTC</td>\n",
       "      <td>C42</td>\n",
       "      <td>https://www.chess.com/openings/Petrovs-Defense...</td>\n",
       "      <td>2022-11-02</td>\n",
       "      <td>0 days 16:01:56</td>\n",
       "      <td>2799</td>\n",
       "      <td>2890</td>\n",
       "      <td>900+2</td>\n",
       "      <td>Hikaru won on time</td>\n",
       "      <td>0 days 16:01:56</td>\n",
       "      <td>2022-11-02</td>\n",
       "      <td>0 days 16:35:40</td>\n",
       "      <td>https://www.chess.com/game/live/61144117987</td>\n",
       "      <td>[Event \"Live Chess\"]\\n[Site \"Chess.com\"]\\n[Dat...</td>\n",
       "      <td>[[1., e4, 0:15:02], [1..., e5, 0:15:00.5], [2....</td>\n",
       "      <td>0</td>\n",
       "      <td>Black</td>\n",
       "      <td>-91</td>\n",
       "      <td>125</td>\n",
       "      <td>Polish_fighter3000</td>\n",
       "    </tr>\n",
       "  </tbody>\n",
       "</table>\n",
       "</div>"
      ],
      "text/plain": [
       "        Event       Site       Date Round               White  \\\n",
       "0  Live Chess  Chess.com 2022-11-02     -  Polish_fighter3000   \n",
       "1  Live Chess  Chess.com 2022-11-02     -              Hikaru   \n",
       "2  Live Chess  Chess.com 2022-11-02     -  Polish_fighter3000   \n",
       "3  Live Chess  Chess.com 2022-11-02     -              Hikaru   \n",
       "\n",
       "                Black Result  \\\n",
       "0              Hikaru    0-1   \n",
       "1  Polish_fighter3000    1-0   \n",
       "2              Hikaru    0-1   \n",
       "3  Polish_fighter3000    1-0   \n",
       "\n",
       "                                    CurrentPosition Timezone  ECO  \\\n",
       "0  3Q4/1p3pk1/p1p3p1/P7/1P1P1qP1/2p2P1P/5K2/8 w - -      UTC  A00   \n",
       "1           5k2/b7/Pp5p/1B2p3/6P1/2p5/2K4P/8 b - g3      UTC  C65   \n",
       "2                 3r4/8/8/5n1p/R7/4pk1P/2K5/8 w - -      UTC  D30   \n",
       "3              3k4/1Q6/P1n3P1/8/3bKP2/8/2r5/8 b - -      UTC  C42   \n",
       "\n",
       "                                              ECOUrl    UTCDate  \\\n",
       "0  https://www.chess.com/openings/Vant-Kruijs-Ope... 2022-11-02   \n",
       "1  https://www.chess.com/openings/Ruy-Lopez-Openi... 2022-11-02   \n",
       "2  https://www.chess.com/openings/Queens-Gambit-D... 2022-11-02   \n",
       "3  https://www.chess.com/openings/Petrovs-Defense... 2022-11-02   \n",
       "\n",
       "          UTCTime  WhiteElo  BlackElo TimeControl                Termination  \\\n",
       "0 0 days 19:03:07      2797      2831       900+2  Hikaru won by resignation   \n",
       "1 0 days 18:05:29      2822      2822       900+2  Hikaru won by resignation   \n",
       "2 0 days 16:57:47      2853      2811       900+2  Hikaru won by resignation   \n",
       "3 0 days 16:01:56      2799      2890       900+2         Hikaru won on time   \n",
       "\n",
       "        StartTime    EndDate         EndTime  \\\n",
       "0 0 days 19:03:07 2022-11-02 0 days 19:32:29   \n",
       "1 0 days 18:05:29 2022-11-02 0 days 18:28:13   \n",
       "2 0 days 16:57:47 2022-11-02 0 days 17:34:29   \n",
       "3 0 days 16:01:56 2022-11-02 0 days 16:35:40   \n",
       "\n",
       "                                          Link  \\\n",
       "0  https://www.chess.com/game/live/61154938155   \n",
       "1  https://www.chess.com/game/live/61151381579   \n",
       "2  https://www.chess.com/game/live/61147235609   \n",
       "3  https://www.chess.com/game/live/61144117987   \n",
       "\n",
       "                                                 pgn  \\\n",
       "0  [Event \"Live Chess\"]\\n[Site \"Chess.com\"]\\n[Dat...   \n",
       "1  [Event \"Live Chess\"]\\n[Site \"Chess.com\"]\\n[Dat...   \n",
       "2  [Event \"Live Chess\"]\\n[Site \"Chess.com\"]\\n[Dat...   \n",
       "3  [Event \"Live Chess\"]\\n[Site \"Chess.com\"]\\n[Dat...   \n",
       "\n",
       "                                               moves  player_result  \\\n",
       "0  [[1., e3, 0:15:02], [1..., e5, 0:14:42.2], [2....              0   \n",
       "1  [[1., e4, 0:15:02], [1..., e5, 0:15:02], [2., ...              0   \n",
       "2  [[1., d4, 0:15:02], [1..., Nf6, 0:15:01.2], [2...              0   \n",
       "3  [[1., e4, 0:15:02], [1..., e5, 0:15:00.5], [2....              0   \n",
       "\n",
       "  player_colour  elo_difference  game_length            Username  \n",
       "0         White              34           88  Polish_fighter3000  \n",
       "1         Black               0           63  Polish_fighter3000  \n",
       "2         White             -42          188  Polish_fighter3000  \n",
       "3         Black             -91          125  Polish_fighter3000  "
      ]
     },
     "execution_count": 53,
     "metadata": {},
     "output_type": "execute_result"
    }
   ],
   "source": [
    "nwnht = pgnproc.get_parquet_by_username('Polish_fighter3000', force_refresh=True)\n",
    "nwnht"
   ]
  },
  {
   "cell_type": "markdown",
   "metadata": {},
   "source": [
    "# Get the pgn"
   ]
  },
  {
   "cell_type": "code",
   "execution_count": 103,
   "metadata": {},
   "outputs": [
    {
     "data": {
      "text/plain": [
       "'[Event \"Live Chess\"]'"
      ]
     },
     "execution_count": 103,
     "metadata": {},
     "output_type": "execute_result"
    }
   ],
   "source": [
    "nwnht_game_string = nwnht.iloc[1].pgn\n",
    "nwnht_game_string[:20]"
   ]
  },
  {
   "cell_type": "code",
   "execution_count": 104,
   "metadata": {},
   "outputs": [
    {
     "data": {
      "text/html": [
       "<div>\n",
       "<style scoped>\n",
       "    .dataframe tbody tr th:only-of-type {\n",
       "        vertical-align: middle;\n",
       "    }\n",
       "\n",
       "    .dataframe tbody tr th {\n",
       "        vertical-align: top;\n",
       "    }\n",
       "\n",
       "    .dataframe thead th {\n",
       "        text-align: right;\n",
       "    }\n",
       "</style>\n",
       "<table border=\"1\" class=\"dataframe\">\n",
       "  <thead>\n",
       "    <tr style=\"text-align: right;\">\n",
       "      <th></th>\n",
       "      <th>Event</th>\n",
       "      <th>Site</th>\n",
       "      <th>Date</th>\n",
       "      <th>Round</th>\n",
       "      <th>White</th>\n",
       "      <th>Black</th>\n",
       "      <th>Result</th>\n",
       "      <th>CurrentPosition</th>\n",
       "      <th>Timezone</th>\n",
       "      <th>ECO</th>\n",
       "      <th>ECOUrl</th>\n",
       "      <th>UTCDate</th>\n",
       "      <th>UTCTime</th>\n",
       "      <th>WhiteElo</th>\n",
       "      <th>BlackElo</th>\n",
       "      <th>TimeControl</th>\n",
       "      <th>Termination</th>\n",
       "      <th>StartTime</th>\n",
       "      <th>EndDate</th>\n",
       "      <th>EndTime</th>\n",
       "      <th>Link</th>\n",
       "      <th>pgn</th>\n",
       "      <th>moves</th>\n",
       "      <th>player_result</th>\n",
       "      <th>player_colour</th>\n",
       "      <th>elo_difference</th>\n",
       "      <th>game_length</th>\n",
       "      <th>Username</th>\n",
       "    </tr>\n",
       "  </thead>\n",
       "  <tbody>\n",
       "  </tbody>\n",
       "</table>\n",
       "</div>"
      ],
      "text/plain": [
       "Empty DataFrame\n",
       "Columns: [Event, Site, Date, Round, White, Black, Result, CurrentPosition, Timezone, ECO, ECOUrl, UTCDate, UTCTime, WhiteElo, BlackElo, TimeControl, Termination, StartTime, EndDate, EndTime, Link, pgn, moves, player_result, player_colour, elo_difference, game_length, Username]\n",
       "Index: []"
      ]
     },
     "execution_count": 104,
     "metadata": {},
     "output_type": "execute_result"
    }
   ],
   "source": [
    "nwnht.query('Termination == \"NWNHT won by checkmate\" & Result == \"0-1\"')\n",
    "nwnht[nwnht['Link'].apply(lambda x: x.endswith('10621664899'))]"
   ]
  },
  {
   "cell_type": "markdown",
   "metadata": {},
   "source": [
    "# Create GameAnalysis Instance"
   ]
  },
  {
   "cell_type": "code",
   "execution_count": 105,
   "metadata": {},
   "outputs": [
    {
     "name": "stdout",
     "output_type": "stream",
     "text": [
      "61151381579\n"
     ]
    },
    {
     "data": {
      "text/plain": [
       "{'Event': 'Live Chess',\n",
       " 'Site': 'Chess.com',\n",
       " 'Date': '2022.11.02',\n",
       " 'Round': '-',\n",
       " 'White': 'Hikaru',\n",
       " 'Black': 'Polish_fighter3000',\n",
       " 'Result': '1-0',\n",
       " 'BlackElo': '2822',\n",
       " 'CurrentPosition': '5k2/b7/Pp5p/1B2p3/6P1/2p5/2K4P/8 b - g3',\n",
       " 'ECO': 'C65',\n",
       " 'ECOUrl': 'https://www.chess.com/openings/Ruy-Lopez-Opening-Berlin-Defense-4.d3-Bc5',\n",
       " 'EndDate': '2022.11.02',\n",
       " 'EndTime': '18:28:13',\n",
       " 'Link': 'https://www.chess.com/game/live/61151381579',\n",
       " 'StartTime': '18:05:29',\n",
       " 'Termination': 'Hikaru won by resignation',\n",
       " 'TimeControl': '900+2',\n",
       " 'Timezone': 'UTC',\n",
       " 'UTCDate': '2022.11.02',\n",
       " 'UTCTime': '18:05:29',\n",
       " 'WhiteElo': '2822'}"
      ]
     },
     "execution_count": 105,
     "metadata": {},
     "output_type": "execute_result"
    }
   ],
   "source": [
    "nwnht_analysis = GameAnalysis(pgn=nwnht_game_string,verbose=True)\n",
    "print(nwnht_analysis.identifier)\n",
    "nwnht_analysis.pgnheaders"
   ]
  },
  {
   "cell_type": "code",
   "execution_count": 106,
   "metadata": {},
   "outputs": [
    {
     "name": "stdout",
     "output_type": "stream",
     "text": [
      "Reading File\n"
     ]
    }
   ],
   "source": [
    "nwnht_analysis.analysis\n",
    "nwnht_analysis.save_analysis()"
   ]
  },
  {
   "cell_type": "code",
   "execution_count": 107,
   "metadata": {},
   "outputs": [
    {
     "data": {
      "text/html": [
       "<div>\n",
       "<style scoped>\n",
       "    .dataframe tbody tr th:only-of-type {\n",
       "        vertical-align: middle;\n",
       "    }\n",
       "\n",
       "    .dataframe tbody tr th {\n",
       "        vertical-align: top;\n",
       "    }\n",
       "\n",
       "    .dataframe thead th {\n",
       "        text-align: right;\n",
       "    }\n",
       "</style>\n",
       "<table border=\"1\" class=\"dataframe\">\n",
       "  <thead>\n",
       "    <tr style=\"text-align: right;\">\n",
       "      <th></th>\n",
       "      <th>MoveNumber</th>\n",
       "      <th>WB</th>\n",
       "      <th>Move</th>\n",
       "      <th>Clock</th>\n",
       "      <th>MoveEval</th>\n",
       "      <th>BestMove</th>\n",
       "      <th>BestMoveEval</th>\n",
       "      <th>MateIn</th>\n",
       "      <th>TopMoves</th>\n",
       "      <th>MoveRank</th>\n",
       "      <th>MoveCorr</th>\n",
       "      <th>MoveLoss</th>\n",
       "    </tr>\n",
       "  </thead>\n",
       "  <tbody>\n",
       "    <tr>\n",
       "      <th>0</th>\n",
       "      <td>1</td>\n",
       "      <td>W</td>\n",
       "      <td>e2e4</td>\n",
       "      <td>0:15:02</td>\n",
       "      <td>46</td>\n",
       "      <td>e2e4</td>\n",
       "      <td>46</td>\n",
       "      <td>None</td>\n",
       "      <td>[{'Centipawn': 46, 'Mate': None, 'Move': 'e2e4...</td>\n",
       "      <td>0</td>\n",
       "      <td>None</td>\n",
       "      <td>0.0</td>\n",
       "    </tr>\n",
       "    <tr>\n",
       "      <th>1</th>\n",
       "      <td>1</td>\n",
       "      <td>B</td>\n",
       "      <td>e7e5</td>\n",
       "      <td>0:15:02</td>\n",
       "      <td>38</td>\n",
       "      <td>c7c6</td>\n",
       "      <td>24</td>\n",
       "      <td>None</td>\n",
       "      <td>[{'Centipawn': 24, 'Mate': None, 'Move': 'c7c6...</td>\n",
       "      <td>3</td>\n",
       "      <td>None</td>\n",
       "      <td>14.0</td>\n",
       "    </tr>\n",
       "    <tr>\n",
       "      <th>2</th>\n",
       "      <td>2</td>\n",
       "      <td>W</td>\n",
       "      <td>g1f3</td>\n",
       "      <td>0:15:02</td>\n",
       "      <td>58</td>\n",
       "      <td>g1f3</td>\n",
       "      <td>58</td>\n",
       "      <td>None</td>\n",
       "      <td>[{'Centipawn': 58, 'Mate': None, 'Move': 'g1f3...</td>\n",
       "      <td>0</td>\n",
       "      <td>None</td>\n",
       "      <td>0.0</td>\n",
       "    </tr>\n",
       "    <tr>\n",
       "      <th>3</th>\n",
       "      <td>2</td>\n",
       "      <td>B</td>\n",
       "      <td>b8c6</td>\n",
       "      <td>0:15:03.5</td>\n",
       "      <td>41</td>\n",
       "      <td>b8c6</td>\n",
       "      <td>41</td>\n",
       "      <td>None</td>\n",
       "      <td>[{'Centipawn': 41, 'Mate': None, 'Move': 'b8c6...</td>\n",
       "      <td>0</td>\n",
       "      <td>None</td>\n",
       "      <td>0.0</td>\n",
       "    </tr>\n",
       "    <tr>\n",
       "      <th>4</th>\n",
       "      <td>3</td>\n",
       "      <td>W</td>\n",
       "      <td>f1b5</td>\n",
       "      <td>0:15:02.4</td>\n",
       "      <td>43</td>\n",
       "      <td>f1b5</td>\n",
       "      <td>43</td>\n",
       "      <td>None</td>\n",
       "      <td>[{'Centipawn': 43, 'Mate': None, 'Move': 'f1b5...</td>\n",
       "      <td>0</td>\n",
       "      <td>None</td>\n",
       "      <td>0.0</td>\n",
       "    </tr>\n",
       "  </tbody>\n",
       "</table>\n",
       "</div>"
      ],
      "text/plain": [
       "   MoveNumber WB  Move      Clock  MoveEval BestMove  BestMoveEval MateIn  \\\n",
       "0           1  W  e2e4    0:15:02        46     e2e4            46   None   \n",
       "1           1  B  e7e5    0:15:02        38     c7c6            24   None   \n",
       "2           2  W  g1f3    0:15:02        58     g1f3            58   None   \n",
       "3           2  B  b8c6  0:15:03.5        41     b8c6            41   None   \n",
       "4           3  W  f1b5  0:15:02.4        43     f1b5            43   None   \n",
       "\n",
       "                                            TopMoves  MoveRank MoveCorr  \\\n",
       "0  [{'Centipawn': 46, 'Mate': None, 'Move': 'e2e4...         0     None   \n",
       "1  [{'Centipawn': 24, 'Mate': None, 'Move': 'c7c6...         3     None   \n",
       "2  [{'Centipawn': 58, 'Mate': None, 'Move': 'g1f3...         0     None   \n",
       "3  [{'Centipawn': 41, 'Mate': None, 'Move': 'b8c6...         0     None   \n",
       "4  [{'Centipawn': 43, 'Mate': None, 'Move': 'f1b5...         0     None   \n",
       "\n",
       "   MoveLoss  \n",
       "0       0.0  \n",
       "1      14.0  \n",
       "2       0.0  \n",
       "3       0.0  \n",
       "4       0.0  "
      ]
     },
     "execution_count": 107,
     "metadata": {},
     "output_type": "execute_result"
    }
   ],
   "source": [
    "nwnht_analysis.analysis.head(5)"
   ]
  },
  {
   "cell_type": "code",
   "execution_count": 108,
   "metadata": {},
   "outputs": [
    {
     "data": {
      "text/plain": [
       "array([{'Centipawn': 621, 'Mate': None, 'Move': 'g2g4'},\n",
       "       {'Centipawn': 620, 'Mate': None, 'Move': 'h2h4'},\n",
       "       {'Centipawn': 617, 'Mate': None, 'Move': 'c2c3'},\n",
       "       {'Centipawn': 351, 'Mate': None, 'Move': 'b5d3'},\n",
       "       {'Centipawn': 179, 'Mate': None, 'Move': 'b5e2'}], dtype=object)"
      ]
     },
     "execution_count": 108,
     "metadata": {},
     "output_type": "execute_result"
    }
   ],
   "source": [
    "nwnht_analysis.analysis.TopMoves.iloc[-1]"
   ]
  },
  {
   "cell_type": "code",
   "execution_count": 109,
   "metadata": {},
   "outputs": [
    {
     "data": {
      "image/png": "[encoded data removed]",
      "text/plain": [
       "<Figure size 1600x400 with 1 Axes>"
      ]
     },
     "metadata": {},
     "output_type": "display_data"
    },
    {
     "data": {
      "text/plain": [
       "<ggplot: (397527516)>"
      ]
     },
     "execution_count": 109,
     "metadata": {},
     "output_type": "execute_result"
    }
   ],
   "source": [
    "(gg.ggplot(nwnht_analysis.analysis, gg.aes(x='nwnht_analysis.analysis.index', y='MoveEval'))\n",
    "    + gg.geom_line(colour=\"#ff4f00\", size=3)\n",
    "    # + gg.scale_y_log10()\n",
    "    + gg.theme_dark()\n",
    "    + gg.theme(figure_size=(16, 4)))"
   ]
  },
  {
   "cell_type": "code",
   "execution_count": 110,
   "metadata": {},
   "outputs": [
    {
     "data": {
      "image/png": "[encoded data removed]",
      "text/plain": [
       "<Figure size 640x480 with 2 Axes>"
      ]
     },
     "metadata": {},
     "output_type": "display_data"
    },
    {
     "data": {
      "text/plain": [
       "<ggplot: (397416668)>"
      ]
     },
     "execution_count": 110,
     "metadata": {},
     "output_type": "execute_result"
    }
   ],
   "source": [
    "(gg.ggplot(nwnht_analysis.analysis, gg.aes(x='MoveNumber', y='MoveLoss')) \n",
    "    + gg.facet_grid('WB ~ .') \n",
    "    + gg.geom_line())"
   ]
  },
  {
   "cell_type": "code",
   "execution_count": 111,
   "metadata": {},
   "outputs": [
    {
     "name": "stderr",
     "output_type": "stream",
     "text": [
      "/var/folders/zz/z3rhbf4x4hdb8gwyxnpw92_40000gn/T/ipykernel_96524/2265989314.py:1: FutureWarning: ['Move', 'Clock', 'BestMove', 'TopMoves'] did not aggregate successfully. If any error is raised this will raise in a future version of pandas. Drop these columns/ops to avoid this warning.\n"
     ]
    },
    {
     "data": {
      "text/html": [
       "<div>\n",
       "<style scoped>\n",
       "    .dataframe tbody tr th:only-of-type {\n",
       "        vertical-align: middle;\n",
       "    }\n",
       "\n",
       "    .dataframe tbody tr th {\n",
       "        vertical-align: top;\n",
       "    }\n",
       "\n",
       "    .dataframe thead tr th {\n",
       "        text-align: left;\n",
       "    }\n",
       "\n",
       "    .dataframe thead tr:last-of-type th {\n",
       "        text-align: right;\n",
       "    }\n",
       "</style>\n",
       "<table border=\"1\" class=\"dataframe\">\n",
       "  <thead>\n",
       "    <tr>\n",
       "      <th></th>\n",
       "      <th colspan=\"2\" halign=\"left\">MoveNumber</th>\n",
       "      <th colspan=\"2\" halign=\"left\">MoveEval</th>\n",
       "      <th colspan=\"2\" halign=\"left\">BestMoveEval</th>\n",
       "      <th colspan=\"2\" halign=\"left\">MateIn</th>\n",
       "      <th colspan=\"2\" halign=\"left\">MoveRank</th>\n",
       "      <th colspan=\"2\" halign=\"left\">MoveCorr</th>\n",
       "      <th colspan=\"2\" halign=\"left\">MoveLoss</th>\n",
       "    </tr>\n",
       "    <tr>\n",
       "      <th></th>\n",
       "      <th>sum</th>\n",
       "      <th>mean</th>\n",
       "      <th>sum</th>\n",
       "      <th>mean</th>\n",
       "      <th>sum</th>\n",
       "      <th>mean</th>\n",
       "      <th>sum</th>\n",
       "      <th>mean</th>\n",
       "      <th>sum</th>\n",
       "      <th>mean</th>\n",
       "      <th>sum</th>\n",
       "      <th>mean</th>\n",
       "      <th>sum</th>\n",
       "      <th>mean</th>\n",
       "    </tr>\n",
       "    <tr>\n",
       "      <th>WB</th>\n",
       "      <th></th>\n",
       "      <th></th>\n",
       "      <th></th>\n",
       "      <th></th>\n",
       "      <th></th>\n",
       "      <th></th>\n",
       "      <th></th>\n",
       "      <th></th>\n",
       "      <th></th>\n",
       "      <th></th>\n",
       "      <th></th>\n",
       "      <th></th>\n",
       "      <th></th>\n",
       "      <th></th>\n",
       "    </tr>\n",
       "  </thead>\n",
       "  <tbody>\n",
       "    <tr>\n",
       "      <th>B</th>\n",
       "      <td>496</td>\n",
       "      <td>16.0</td>\n",
       "      <td>4167</td>\n",
       "      <td>134.419355</td>\n",
       "      <td>3761</td>\n",
       "      <td>121.322581</td>\n",
       "      <td>0</td>\n",
       "      <td>NaN</td>\n",
       "      <td>25</td>\n",
       "      <td>0.806452</td>\n",
       "      <td>0</td>\n",
       "      <td>NaN</td>\n",
       "      <td>406.0</td>\n",
       "      <td>13.096774</td>\n",
       "    </tr>\n",
       "    <tr>\n",
       "      <th>W</th>\n",
       "      <td>528</td>\n",
       "      <td>16.5</td>\n",
       "      <td>4678</td>\n",
       "      <td>146.187500</td>\n",
       "      <td>4805</td>\n",
       "      <td>150.156250</td>\n",
       "      <td>0</td>\n",
       "      <td>NaN</td>\n",
       "      <td>13</td>\n",
       "      <td>0.406250</td>\n",
       "      <td>0</td>\n",
       "      <td>NaN</td>\n",
       "      <td>127.0</td>\n",
       "      <td>3.968750</td>\n",
       "    </tr>\n",
       "  </tbody>\n",
       "</table>\n",
       "</div>"
      ],
      "text/plain": [
       "   MoveNumber       MoveEval             BestMoveEval             MateIn       \\\n",
       "          sum  mean      sum        mean          sum        mean    sum mean   \n",
       "WB                                                                              \n",
       "B         496  16.0     4167  134.419355         3761  121.322581      0  NaN   \n",
       "W         528  16.5     4678  146.187500         4805  150.156250      0  NaN   \n",
       "\n",
       "   MoveRank           MoveCorr      MoveLoss             \n",
       "        sum      mean      sum mean      sum       mean  \n",
       "WB                                                       \n",
       "B        25  0.806452        0  NaN    406.0  13.096774  \n",
       "W        13  0.406250        0  NaN    127.0   3.968750  "
      ]
     },
     "execution_count": 111,
     "metadata": {},
     "output_type": "execute_result"
    }
   ],
   "source": [
    "nwnht_analysis.analysis.groupby('WB').agg(['sum', 'mean'])"
   ]
  }
 ],
 "metadata": {
  "kernelspec": {
   "display_name": "Python 3.9.13 ('env_chess')",
   "language": "python",
   "name": "python3"
  },
  "language_info": {
   "codemirror_mode": {
    "name": "ipython",
    "version": 3
   },
   "file_extension": ".py",
   "mimetype": "text/x-python",
   "name": "python",
   "nbconvert_exporter": "python",
   "pygments_lexer": "ipython3",
   "version": "3.9.13"
  },
  "orig_nbformat": 4,
  "vscode": {
   "interpreter": {
    "hash": "7189debf3544186a2d5f6d489a29cbfd79adbadf4b9ab26abcd53117fa0dbad6"
   }
  }
 },
 "nbformat": 4,
 "nbformat_minor": 2
}
