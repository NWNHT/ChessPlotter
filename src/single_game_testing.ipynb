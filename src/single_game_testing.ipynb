{
 "cells": [
  {
   "cell_type": "code",
   "execution_count": 1,
   "metadata": {},
   "outputs": [],
   "source": [
    "import asyncio\n",
    "import chess\n",
    "import chess.pgn\n",
    "import matplotlib.pyplot as plt\n",
    "import numpy as np\n",
    "import pandas as pd\n",
    "import plotnine as gg\n",
    "from stockfish import Stockfish\n",
    "\n",
    "from chessproc import pgnproc\n",
    "from chessproc import dfproc\n",
    "from chessproc.GameAnalysis import GameAnalysis\n",
    "\n",
    "pd.set_option('display.max_columns', 100)"
   ]
  },
  {
   "cell_type": "markdown",
   "metadata": {},
   "source": [
    "# Initialize Stockfish"
   ]
  },
  {
   "cell_type": "code",
   "execution_count": 2,
   "metadata": {},
   "outputs": [],
   "source": [
    "sf = Stockfish(path='/opt/homebrew/bin/stockfish')\n",
    "# sf.get_parameters()"
   ]
  },
  {
   "cell_type": "markdown",
   "metadata": {},
   "source": [
    "# Create the Parquet from Downloaded files"
   ]
  },
  {
   "cell_type": "code",
   "execution_count": 3,
   "metadata": {},
   "outputs": [
    {
     "data": {
      "text/html": [
       "<div>\n",
       "<style scoped>\n",
       "    .dataframe tbody tr th:only-of-type {\n",
       "        vertical-align: middle;\n",
       "    }\n",
       "\n",
       "    .dataframe tbody tr th {\n",
       "        vertical-align: top;\n",
       "    }\n",
       "\n",
       "    .dataframe thead th {\n",
       "        text-align: right;\n",
       "    }\n",
       "</style>\n",
       "<table border=\"1\" class=\"dataframe\">\n",
       "  <thead>\n",
       "    <tr style=\"text-align: right;\">\n",
       "      <th></th>\n",
       "      <th>Event</th>\n",
       "      <th>Site</th>\n",
       "      <th>Date</th>\n",
       "      <th>Round</th>\n",
       "      <th>White</th>\n",
       "      <th>Black</th>\n",
       "      <th>Result</th>\n",
       "      <th>CurrentPosition</th>\n",
       "      <th>Timezone</th>\n",
       "      <th>ECO</th>\n",
       "      <th>ECOUrl</th>\n",
       "      <th>UTCDate</th>\n",
       "      <th>UTCTime</th>\n",
       "      <th>WhiteElo</th>\n",
       "      <th>BlackElo</th>\n",
       "      <th>TimeControl</th>\n",
       "      <th>Termination</th>\n",
       "      <th>StartTime</th>\n",
       "      <th>EndDate</th>\n",
       "      <th>EndTime</th>\n",
       "      <th>Link</th>\n",
       "      <th>pgn</th>\n",
       "      <th>moves</th>\n",
       "      <th>player_result</th>\n",
       "      <th>player_colour</th>\n",
       "      <th>elo_difference</th>\n",
       "      <th>game_length</th>\n",
       "      <th>Username</th>\n",
       "    </tr>\n",
       "  </thead>\n",
       "  <tbody>\n",
       "    <tr>\n",
       "      <th>0</th>\n",
       "      <td>Live Chess</td>\n",
       "      <td>Chess.com</td>\n",
       "      <td>2022-11-02</td>\n",
       "      <td>-</td>\n",
       "      <td>Polish_fighter3000</td>\n",
       "      <td>Hikaru</td>\n",
       "      <td>0-1</td>\n",
       "      <td>3Q4/1p3pk1/p1p3p1/P7/1P1P1qP1/2p2P1P/5K2/8 w - -</td>\n",
       "      <td>UTC</td>\n",
       "      <td>A00</td>\n",
       "      <td>https://www.chess.com/openings/Vant-Kruijs-Ope...</td>\n",
       "      <td>2022-11-02</td>\n",
       "      <td>0 days 19:03:07</td>\n",
       "      <td>2797</td>\n",
       "      <td>2831</td>\n",
       "      <td>900+2</td>\n",
       "      <td>Hikaru won by resignation</td>\n",
       "      <td>0 days 19:03:07</td>\n",
       "      <td>2022-11-02</td>\n",
       "      <td>0 days 19:32:29</td>\n",
       "      <td>https://www.chess.com/game/live/61154938155</td>\n",
       "      <td>[Event \"Live Chess\"]\\n[Site \"Chess.com\"]\\n[Dat...</td>\n",
       "      <td>[[1., e3, 0:15:02], [1..., e5, 0:14:42.2], [2....</td>\n",
       "      <td>0</td>\n",
       "      <td>White</td>\n",
       "      <td>34</td>\n",
       "      <td>88</td>\n",
       "      <td>Polish_fighter3000</td>\n",
       "    </tr>\n",
       "    <tr>\n",
       "      <th>1</th>\n",
       "      <td>Live Chess</td>\n",
       "      <td>Chess.com</td>\n",
       "      <td>2022-11-02</td>\n",
       "      <td>-</td>\n",
       "      <td>Hikaru</td>\n",
       "      <td>Polish_fighter3000</td>\n",
       "      <td>1-0</td>\n",
       "      <td>5k2/b7/Pp5p/1B2p3/6P1/2p5/2K4P/8 b - g3</td>\n",
       "      <td>UTC</td>\n",
       "      <td>C65</td>\n",
       "      <td>https://www.chess.com/openings/Ruy-Lopez-Openi...</td>\n",
       "      <td>2022-11-02</td>\n",
       "      <td>0 days 18:05:29</td>\n",
       "      <td>2822</td>\n",
       "      <td>2822</td>\n",
       "      <td>900+2</td>\n",
       "      <td>Hikaru won by resignation</td>\n",
       "      <td>0 days 18:05:29</td>\n",
       "      <td>2022-11-02</td>\n",
       "      <td>0 days 18:28:13</td>\n",
       "      <td>https://www.chess.com/game/live/61151381579</td>\n",
       "      <td>[Event \"Live Chess\"]\\n[Site \"Chess.com\"]\\n[Dat...</td>\n",
       "      <td>[[1., e4, 0:15:02], [1..., e5, 0:15:02], [2., ...</td>\n",
       "      <td>0</td>\n",
       "      <td>Black</td>\n",
       "      <td>0</td>\n",
       "      <td>63</td>\n",
       "      <td>Polish_fighter3000</td>\n",
       "    </tr>\n",
       "    <tr>\n",
       "      <th>2</th>\n",
       "      <td>Live Chess</td>\n",
       "      <td>Chess.com</td>\n",
       "      <td>2022-11-02</td>\n",
       "      <td>-</td>\n",
       "      <td>Polish_fighter3000</td>\n",
       "      <td>Hikaru</td>\n",
       "      <td>0-1</td>\n",
       "      <td>3r4/8/8/5n1p/R7/4pk1P/2K5/8 w - -</td>\n",
       "      <td>UTC</td>\n",
       "      <td>D30</td>\n",
       "      <td>https://www.chess.com/openings/Queens-Gambit-D...</td>\n",
       "      <td>2022-11-02</td>\n",
       "      <td>0 days 16:57:47</td>\n",
       "      <td>2853</td>\n",
       "      <td>2811</td>\n",
       "      <td>900+2</td>\n",
       "      <td>Hikaru won by resignation</td>\n",
       "      <td>0 days 16:57:47</td>\n",
       "      <td>2022-11-02</td>\n",
       "      <td>0 days 17:34:29</td>\n",
       "      <td>https://www.chess.com/game/live/61147235609</td>\n",
       "      <td>[Event \"Live Chess\"]\\n[Site \"Chess.com\"]\\n[Dat...</td>\n",
       "      <td>[[1., d4, 0:15:02], [1..., Nf6, 0:15:01.2], [2...</td>\n",
       "      <td>0</td>\n",
       "      <td>White</td>\n",
       "      <td>-42</td>\n",
       "      <td>188</td>\n",
       "      <td>Polish_fighter3000</td>\n",
       "    </tr>\n",
       "    <tr>\n",
       "      <th>3</th>\n",
       "      <td>Live Chess</td>\n",
       "      <td>Chess.com</td>\n",
       "      <td>2022-11-02</td>\n",
       "      <td>-</td>\n",
       "      <td>Hikaru</td>\n",
       "      <td>Polish_fighter3000</td>\n",
       "      <td>1-0</td>\n",
       "      <td>3k4/1Q6/P1n3P1/8/3bKP2/8/2r5/8 b - -</td>\n",
       "      <td>UTC</td>\n",
       "      <td>C42</td>\n",
       "      <td>https://www.chess.com/openings/Petrovs-Defense...</td>\n",
       "      <td>2022-11-02</td>\n",
       "      <td>0 days 16:01:56</td>\n",
       "      <td>2799</td>\n",
       "      <td>2890</td>\n",
       "      <td>900+2</td>\n",
       "      <td>Hikaru won on time</td>\n",
       "      <td>0 days 16:01:56</td>\n",
       "      <td>2022-11-02</td>\n",
       "      <td>0 days 16:35:40</td>\n",
       "      <td>https://www.chess.com/game/live/61144117987</td>\n",
       "      <td>[Event \"Live Chess\"]\\n[Site \"Chess.com\"]\\n[Dat...</td>\n",
       "      <td>[[1., e4, 0:15:02], [1..., e5, 0:15:00.5], [2....</td>\n",
       "      <td>0</td>\n",
       "      <td>Black</td>\n",
       "      <td>-91</td>\n",
       "      <td>125</td>\n",
       "      <td>Polish_fighter3000</td>\n",
       "    </tr>\n",
       "  </tbody>\n",
       "</table>\n",
       "</div>"
      ],
      "text/plain": [
       "        Event       Site       Date Round               White  \\\n",
       "0  Live Chess  Chess.com 2022-11-02     -  Polish_fighter3000   \n",
       "1  Live Chess  Chess.com 2022-11-02     -              Hikaru   \n",
       "2  Live Chess  Chess.com 2022-11-02     -  Polish_fighter3000   \n",
       "3  Live Chess  Chess.com 2022-11-02     -              Hikaru   \n",
       "\n",
       "                Black Result  \\\n",
       "0              Hikaru    0-1   \n",
       "1  Polish_fighter3000    1-0   \n",
       "2              Hikaru    0-1   \n",
       "3  Polish_fighter3000    1-0   \n",
       "\n",
       "                                    CurrentPosition Timezone  ECO  \\\n",
       "0  3Q4/1p3pk1/p1p3p1/P7/1P1P1qP1/2p2P1P/5K2/8 w - -      UTC  A00   \n",
       "1           5k2/b7/Pp5p/1B2p3/6P1/2p5/2K4P/8 b - g3      UTC  C65   \n",
       "2                 3r4/8/8/5n1p/R7/4pk1P/2K5/8 w - -      UTC  D30   \n",
       "3              3k4/1Q6/P1n3P1/8/3bKP2/8/2r5/8 b - -      UTC  C42   \n",
       "\n",
       "                                              ECOUrl    UTCDate  \\\n",
       "0  https://www.chess.com/openings/Vant-Kruijs-Ope... 2022-11-02   \n",
       "1  https://www.chess.com/openings/Ruy-Lopez-Openi... 2022-11-02   \n",
       "2  https://www.chess.com/openings/Queens-Gambit-D... 2022-11-02   \n",
       "3  https://www.chess.com/openings/Petrovs-Defense... 2022-11-02   \n",
       "\n",
       "          UTCTime  WhiteElo  BlackElo TimeControl                Termination  \\\n",
       "0 0 days 19:03:07      2797      2831       900+2  Hikaru won by resignation   \n",
       "1 0 days 18:05:29      2822      2822       900+2  Hikaru won by resignation   \n",
       "2 0 days 16:57:47      2853      2811       900+2  Hikaru won by resignation   \n",
       "3 0 days 16:01:56      2799      2890       900+2         Hikaru won on time   \n",
       "\n",
       "        StartTime    EndDate         EndTime  \\\n",
       "0 0 days 19:03:07 2022-11-02 0 days 19:32:29   \n",
       "1 0 days 18:05:29 2022-11-02 0 days 18:28:13   \n",
       "2 0 days 16:57:47 2022-11-02 0 days 17:34:29   \n",
       "3 0 days 16:01:56 2022-11-02 0 days 16:35:40   \n",
       "\n",
       "                                          Link  \\\n",
       "0  https://www.chess.com/game/live/61154938155   \n",
       "1  https://www.chess.com/game/live/61151381579   \n",
       "2  https://www.chess.com/game/live/61147235609   \n",
       "3  https://www.chess.com/game/live/61144117987   \n",
       "\n",
       "                                                 pgn  \\\n",
       "0  [Event \"Live Chess\"]\\n[Site \"Chess.com\"]\\n[Dat...   \n",
       "1  [Event \"Live Chess\"]\\n[Site \"Chess.com\"]\\n[Dat...   \n",
       "2  [Event \"Live Chess\"]\\n[Site \"Chess.com\"]\\n[Dat...   \n",
       "3  [Event \"Live Chess\"]\\n[Site \"Chess.com\"]\\n[Dat...   \n",
       "\n",
       "                                               moves  player_result  \\\n",
       "0  [[1., e3, 0:15:02], [1..., e5, 0:14:42.2], [2....              0   \n",
       "1  [[1., e4, 0:15:02], [1..., e5, 0:15:02], [2., ...              0   \n",
       "2  [[1., d4, 0:15:02], [1..., Nf6, 0:15:01.2], [2...              0   \n",
       "3  [[1., e4, 0:15:02], [1..., e5, 0:15:00.5], [2....              0   \n",
       "\n",
       "  player_colour  elo_difference  game_length            Username  \n",
       "0         White              34           88  Polish_fighter3000  \n",
       "1         Black               0           63  Polish_fighter3000  \n",
       "2         White             -42          188  Polish_fighter3000  \n",
       "3         Black             -91          125  Polish_fighter3000  "
      ]
     },
     "execution_count": 3,
     "metadata": {},
     "output_type": "execute_result"
    }
   ],
   "source": [
    "duda = pgnproc.get_parquet_by_username('Polish_fighter3000', force_refresh=True)\n",
    "duda = duda.query('White == \"Hikaru\" | Black == \"Hikaru\"')\n",
    "duda"
   ]
  },
  {
   "cell_type": "markdown",
   "metadata": {},
   "source": [
    "# Create Game Object"
   ]
  },
  {
   "cell_type": "code",
   "execution_count": 4,
   "metadata": {},
   "outputs": [
    {
     "data": {
      "text/plain": [
       "'[Event \"Live Chess\"]'"
      ]
     },
     "execution_count": 4,
     "metadata": {},
     "output_type": "execute_result"
    }
   ],
   "source": [
    "duda_game_string = duda.iloc[0].pgn\n",
    "duda_game_string[:20]"
   ]
  },
  {
   "cell_type": "markdown",
   "metadata": {},
   "source": [
    "# Create GameAnalysis Instance"
   ]
  },
  {
   "cell_type": "code",
   "execution_count": 5,
   "metadata": {},
   "outputs": [],
   "source": [
    "duda_analysis = GameAnalysis(sf=sf, pgn=duda_game_string, sf_depth=8, verbose=True)"
   ]
  },
  {
   "cell_type": "code",
   "execution_count": 6,
   "metadata": {},
   "outputs": [
    {
     "data": {
      "text/plain": [
       "'61154938155'"
      ]
     },
     "execution_count": 6,
     "metadata": {},
     "output_type": "execute_result"
    }
   ],
   "source": [
    "duda_analysis.identifier\n",
    "# Naming Convention\n",
    "# %%%%%%_White_Black_Result_Depth.parquet"
   ]
  },
  {
   "cell_type": "code",
   "execution_count": 6,
   "metadata": {},
   "outputs": [
    {
     "name": "stdout",
     "output_type": "stream",
     "text": [
      "Move Number: 0, Move: e2e3\n",
      "Move Number: 1, Move: e7e5\n",
      "Move Number: 2, Move: e1e2\n",
      "Move Number: 3, Move: d7d5\n",
      "Move Number: 4, Move: d2d4\n",
      "Move Number: 5, Move: b8c6\n",
      "Move Number: 6, Move: b1c3\n",
      "Move Number: 7, Move: g8f6\n",
      "Move Number: 8, Move: f2f3\n",
      "Move Number: 9, Move: f8d6\n",
      "Move Number: 10, Move: e2f2\n",
      "Move Number: 11, Move: e8g8\n",
      "Move Number: 12, Move: g1e2\n",
      "Move Number: 13, Move: d8e7\n",
      "Move Number: 14, Move: c3b5\n",
      "Move Number: 15, Move: d6b4\n",
      "Move Number: 16, Move: c2c3\n",
      "Move Number: 17, Move: b4a5\n",
      "Move Number: 18, Move: a2a4\n",
      "Move Number: 19, Move: a5b6\n",
      "Move Number: 20, Move: h2h3\n",
      "Move Number: 21, Move: a7a6\n",
      "Move Number: 22, Move: b5a3\n",
      "Move Number: 23, Move: f6e8\n",
      "Move Number: 24, Move: b2b4\n",
      "Move Number: 25, Move: e8d6\n",
      "Move Number: 26, Move: g2g3\n",
      "Move Number: 27, Move: f8e8\n",
      "Move Number: 28, Move: a1a2\n",
      "Move Number: 29, Move: e7f6\n",
      "Move Number: 30, Move: f2g2\n",
      "Move Number: 31, Move: c8f5\n",
      "Move Number: 32, Move: g3g4\n",
      "Move Number: 33, Move: f5g6\n",
      "Move Number: 34, Move: e2g3\n",
      "Move Number: 35, Move: h7h5\n",
      "Move Number: 36, Move: h1g1\n",
      "Move Number: 37, Move: h5h4\n",
      "Move Number: 38, Move: g3e2\n",
      "Move Number: 39, Move: a8d8\n",
      "Move Number: 40, Move: c1d2\n",
      "Move Number: 41, Move: d6c4\n",
      "Move Number: 42, Move: a3c4\n",
      "Move Number: 43, Move: d5c4\n",
      "Move Number: 44, Move: a4a5\n",
      "Move Number: 45, Move: b6a7\n",
      "Move Number: 46, Move: d1e1\n",
      "Move Number: 47, Move: g6d3\n",
      "Move Number: 48, Move: e1f2\n",
      "Move Number: 49, Move: c6e7\n",
      "Move Number: 50, Move: e2c1\n",
      "Move Number: 51, Move: d3f1\n",
      "Move Number: 52, Move: g1f1\n",
      "Move Number: 53, Move: e7d5\n"
     ]
    },
    {
     "ename": "KeyboardInterrupt",
     "evalue": "",
     "output_type": "error",
     "traceback": [
      "\u001b[0;31m---------------------------------------------------------------------------\u001b[0m",
      "\u001b[0;31mKeyboardInterrupt\u001b[0m                         Traceback (most recent call last)",
      "Cell \u001b[0;32mIn [6], line 1\u001b[0m\n\u001b[0;32m----> 1\u001b[0m duda_analysis\u001b[39m.\u001b[39manalysis\n",
      "File \u001b[0;32m~/miniforge3/envs/env_chess/lib/python3.9/functools.py:993\u001b[0m, in \u001b[0;36mcached_property.__get__\u001b[0;34m(self, instance, owner)\u001b[0m\n\u001b[1;32m    991\u001b[0m val \u001b[39m=\u001b[39m cache\u001b[39m.\u001b[39mget(\u001b[39mself\u001b[39m\u001b[39m.\u001b[39mattrname, _NOT_FOUND)\n\u001b[1;32m    992\u001b[0m \u001b[39mif\u001b[39;00m val \u001b[39mis\u001b[39;00m _NOT_FOUND:\n\u001b[0;32m--> 993\u001b[0m     val \u001b[39m=\u001b[39m \u001b[39mself\u001b[39;49m\u001b[39m.\u001b[39;49mfunc(instance)\n\u001b[1;32m    994\u001b[0m     \u001b[39mtry\u001b[39;00m:\n\u001b[1;32m    995\u001b[0m         cache[\u001b[39mself\u001b[39m\u001b[39m.\u001b[39mattrname] \u001b[39m=\u001b[39m val\n",
      "File \u001b[0;32m~/Documents/Programming/Python/Projects/ChessPlotter/src/chessproc/GameAnalysis.py:67\u001b[0m, in \u001b[0;36manalysis\u001b[0;34m(self)\u001b[0m\n\u001b[1;32m     59\u001b[0m if self.verbose:\n\u001b[1;32m     60\u001b[0m     print(f\"Move Number: {i}, Move: {move}\")\n\u001b[1;32m     61\u001b[0m # Variable Engine depth\n\u001b[1;32m     62\u001b[0m \n\u001b[1;32m     63\u001b[0m \n\u001b[1;32m     64\u001b[0m \n\u001b[1;32m     65\u001b[0m \n\u001b[1;32m     66\u001b[0m \n\u001b[0;32m---> 67\u001b[0m # Note the move and related information\n\u001b[1;32m     68\u001b[0m moves.append(move.uci())\n\u001b[1;32m     70\u001b[0m MoveNumber.append(i // 2 + 1)\n",
      "File \u001b[0;32m~/miniforge3/envs/env_chess/lib/python3.9/site-packages/stockfish/models.py:540\u001b[0m, in \u001b[0;36mStockfish.get_top_moves\u001b[0;34m(self, num_top_moves)\u001b[0m\n\u001b[1;32m    538\u001b[0m lines \u001b[39m=\u001b[39m []\n\u001b[1;32m    539\u001b[0m \u001b[39mwhile\u001b[39;00m \u001b[39mTrue\u001b[39;00m:\n\u001b[0;32m--> 540\u001b[0m     text \u001b[39m=\u001b[39m \u001b[39mself\u001b[39;49m\u001b[39m.\u001b[39;49m_read_line()\n\u001b[1;32m    541\u001b[0m     splitted_text \u001b[39m=\u001b[39m text\u001b[39m.\u001b[39msplit(\u001b[39m\"\u001b[39m\u001b[39m \u001b[39m\u001b[39m\"\u001b[39m)\n\u001b[1;32m    542\u001b[0m     lines\u001b[39m.\u001b[39mappend(splitted_text)\n",
      "File \u001b[0;32m~/miniforge3/envs/env_chess/lib/python3.9/site-packages/stockfish/models.py:161\u001b[0m, in \u001b[0;36mStockfish._read_line\u001b[0;34m(self)\u001b[0m\n\u001b[1;32m    159\u001b[0m \u001b[39mif\u001b[39;00m \u001b[39mself\u001b[39m\u001b[39m.\u001b[39m_stockfish\u001b[39m.\u001b[39mpoll() \u001b[39mis\u001b[39;00m \u001b[39mnot\u001b[39;00m \u001b[39mNone\u001b[39;00m:\n\u001b[1;32m    160\u001b[0m     \u001b[39mraise\u001b[39;00m StockfishException(\u001b[39m\"\u001b[39m\u001b[39mThe Stockfish process has crashed\u001b[39m\u001b[39m\"\u001b[39m)\n\u001b[0;32m--> 161\u001b[0m \u001b[39mreturn\u001b[39;00m \u001b[39mself\u001b[39;49m\u001b[39m.\u001b[39;49m_stockfish\u001b[39m.\u001b[39;49mstdout\u001b[39m.\u001b[39;49mreadline()\u001b[39m.\u001b[39mstrip()\n",
      "\u001b[0;31mKeyboardInterrupt\u001b[0m: "
     ]
    }
   ],
   "source": [
    "duda_analysis.analysis"
   ]
  },
  {
   "cell_type": "code",
   "execution_count": null,
   "metadata": {},
   "outputs": [
    {
     "data": {
      "image/png": "[encoded data removed]",
      "text/plain": [
       "<Figure size 640x480 with 1 Axes>"
      ]
     },
     "metadata": {},
     "output_type": "display_data"
    },
    {
     "data": {
      "text/plain": [
       "<ggplot: (379404156)>"
      ]
     },
     "execution_count": 15,
     "metadata": {},
     "output_type": "execute_result"
    }
   ],
   "source": [
    "gg.ggplot(duda_analysis.analysis, gg.aes(x='duda_analysis.analysis.index', y='MoveEval')) + gg.geom_line()"
   ]
  }
 ],
 "metadata": {
  "kernelspec": {
   "display_name": "Python 3.9.13 ('env_chess')",
   "language": "python",
   "name": "python3"
  },
  "language_info": {
   "codemirror_mode": {
    "name": "ipython",
    "version": 3
   },
   "file_extension": ".py",
   "mimetype": "text/x-python",
   "name": "python",
   "nbconvert_exporter": "python",
   "pygments_lexer": "ipython3",
   "version": "3.9.13"
  },
  "orig_nbformat": 4,
  "vscode": {
   "interpreter": {
    "hash": "7189debf3544186a2d5f6d489a29cbfd79adbadf4b9ab26abcd53117fa0dbad6"
   }
  }
 },
 "nbformat": 4,
 "nbformat_minor": 2
}
